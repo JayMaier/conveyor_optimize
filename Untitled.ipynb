{
 "cells": [
  {
   "cell_type": "code",
   "execution_count": 1,
   "id": "a01918ab",
   "metadata": {},
   "outputs": [],
   "source": [
    "import numpy as np\n",
    "import cvxpy as cp"
   ]
  },
  {
   "cell_type": "code",
   "execution_count": 2,
   "id": "f31989ea",
   "metadata": {},
   "outputs": [],
   "source": [
    "'''\n",
    "using 3 types of material, measurement points intake, after a, after b\n",
    "\n",
    "'''\n",
    "\n",
    "def dynamics(A, B, x, u):\n",
    "    x_new = A @ x + B @ u\n",
    "    x_new[x_new < 0] = 0  #clip material quantities to zero\n",
    "    return x_new\n",
    "    \n",
    "    \n",
    "    \n",
    "# A = np.array([[0, 0, 1], [1, 0, 0], [0, 1, 0]])\n",
    "# B = np.array([[0, 0], [0, 0], [0,0]])|\n",
    "# u = np.array([0,0]).T\n",
    "# x = np.array([2, 0, 0]).T"
   ]
  },
  {
   "cell_type": "code",
   "execution_count": 4,
   "id": "2c59e3f0",
   "metadata": {},
   "outputs": [
    {
     "data": {
      "text/plain": [
       "array([2, 0, 0])"
      ]
     },
     "execution_count": 4,
     "metadata": {},
     "output_type": "execute_result"
    }
   ],
   "source": [
    "x"
   ]
  },
  {
   "cell_type": "code",
   "execution_count": 20,
   "id": "6be65507",
   "metadata": {},
   "outputs": [
    {
     "data": {
      "text/plain": [
       "array([0, 0, 2])"
      ]
     },
     "execution_count": 20,
     "metadata": {},
     "output_type": "execute_result"
    }
   ],
   "source": [
    "x=dynamics(A, B, x, u)\n",
    "x"
   ]
  },
  {
   "cell_type": "code",
   "execution_count": 19,
   "id": "ea9d5d28",
   "metadata": {},
   "outputs": [
    {
     "data": {
      "text/plain": [
       "array([[0, 0, 1],\n",
       "       [1, 0, 0],\n",
       "       [0, 1, 0]])"
      ]
     },
     "execution_count": 19,
     "metadata": {},
     "output_type": "execute_result"
    }
   ],
   "source": []
  },
  {
   "cell_type": "code",
   "execution_count": 67,
   "id": "0e2f96ce",
   "metadata": {},
   "outputs": [],
   "source": [
    "def problem_constructor(num_materials = 3):\n",
    "    x = np.zeros(((num_materials ** 2) + num_materials))\n",
    "    u = np.zeros((num_materials))\n",
    "    \n",
    "    A = np.zeros((x.shape[0], x.shape[0]))\n",
    "    B = np.zeros((x.shape[0], u.shape[0]))\n",
    "    A[-1, -1] = 1\n",
    "    \n",
    "    for i in range(num_materials-1):\n",
    "        row_start = (i+1)*num_materials\n",
    "        col_start = i*num_materials\n",
    "        for j in range(num_materials):\n",
    "            Ar = row_start+j\n",
    "            Ac = col_start+j\n",
    "            A[Ar, Ac] = 1\n",
    "    for i in range(num_materials-1):\n",
    "        r_start = (i+1)*num_materials\n",
    "        B[r_start, i] = -1\n",
    "    \n",
    "    return A, B, x, u"
   ]
  },
  {
   "cell_type": "code",
   "execution_count": 71,
   "id": "2f1c2d5d",
   "metadata": {},
   "outputs": [],
   "source": [
    "A, B, x, u = problem_constructor(4)\n",
    "\n",
    "# initial conditions:\n",
    "x[0] = 5\n",
    "x[1] = 6\n",
    "x[2] = 7\n",
    "x[3] = 8\n",
    "x[-1]= 10\n",
    "u[0] = 0.5\n",
    "u[1] = 0.5\n",
    "u[2] = 0.5"
   ]
  },
  {
   "cell_type": "code",
   "execution_count": 1,
   "id": "e75126b3",
   "metadata": {},
   "outputs": [
    {
     "name": "stdout",
     "output_type": "stream",
     "text": [
      "0\n",
      "1\n",
      "2\n",
      "3\n"
     ]
    }
   ],
   "source": [
    "for i in range(4):\n",
    "    print(i)\n"
   ]
  },
  {
   "cell_type": "code",
   "execution_count": 3,
   "id": "925bfa5b",
   "metadata": {},
   "outputs": [],
   "source": [
    "def problem_constructor_qr(num_materials = 4, set_params = False):\n",
    "    \n",
    "    '''\n",
    "    x order: (assuming 4 materials)\n",
    "    initial state (4)\n",
    "    stage 1 (4)\n",
    "    stage 2 (4)\n",
    "    stage 3/out material 4 (4) \n",
    "    effort mat 1\n",
    "    effort mat 2\n",
    "    effort mat 3\n",
    "    belt speed\n",
    "    '''\n",
    "    nx = 0\n",
    "    # nx += num_materials  # compisition of feed pile, normalized to 1\n",
    "    nx += num_materials ** 2 # quantity of each material at each stage (intake, stage 1, stage ..., stage num_material-1)\n",
    "    nx += num_materials - 1 # effort at each positive sort station\n",
    "    # nx += 1 # belt speed (really, how much to take from feed pile each time step)\n",
    "    \n",
    "    nu = num_materials - 1 # how much to increase or decrease effort at each positive sort station\n",
    "    nu += 1 #how much to increase or decrease belt speed\n",
    "    \n",
    "    x = np.zeros((nx))\n",
    "    u = np.zeros((nu))\n",
    "    \n",
    "    A = np.zeros((nx, nx))\n",
    "    B = np.zeros((nx, nu))\n",
    "    Q_vect = np.zeros((nx))\n",
    "    R_vect = np.ones((nu))\n",
    "    \n",
    "    \n",
    "    ## assemble a and b matrices\n",
    "    \n",
    "\n",
    "    \n",
    "    # Q_vect[-1] = priceC\n",
    "    # Q_vect[-2] = priceB\n",
    "    # Q_vect[-3] = priceA\n",
    "    # Q_vect[-4] = priceD\n",
    "    # Q_vect[-5] = priceD\n",
    "    # Q_vect[-6] = priceD\n",
    "    # Q_vect[-7] = priceD\n",
    "        \n",
    "    priceA = 13 #$/ton\n",
    "    priceB = 10 #$/ton\n",
    "    priceC = 20 #$/ton\n",
    "    priceD = 4 #$/ton\n",
    "\n",
    "    Q_vect[-4] = priceD\n",
    "    Q_vect[-5] = priceC - priceD\n",
    "    Q_vect[-6] = priceB - priceD\n",
    "    Q_vect[-7] = priceA - priceD\n",
    "    \n",
    "    \n",
    "    # R_vect *= 1\n",
    "    R_vect[-1] = 1    \n",
    "    Q = np.diag(Q_vect)\n",
    "    R = np.diag(R_vect)\n",
    "    \n",
    "    \n",
    "    # feedA = 0.5\n",
    "    # feedB = 1\n",
    "    # feedC = .8\n",
    "    # feedD = 0.2\n",
    "    feedA = 1\n",
    "    feedB = 1\n",
    "    feedC = 1\n",
    "    feedD = 1\n",
    "    \n",
    "    \n",
    "    sum = feedA + feedB + feedC + feedD\n",
    "    feedA = feedA/sum\n",
    "    feedB = feedB/sum\n",
    "    feedC = feedC/sum\n",
    "    feedD = feedD/sum\n",
    "    \n",
    "    B[0, -1] = -feedA\n",
    "    B[1, -1] = -feedB\n",
    "    B[2, -1] = -feedC\n",
    "    B[3, -1] = -feedD\n",
    "    \n",
    "    \n",
    "    \n",
    "    # top part of last column of b encodes feed pile ratios, u[-1] is how much feed pile to put in first few rows of x\n",
    "    \n",
    "    \n",
    "    # A[-1, -1] = 1 # belt speed no state transition\n",
    "    # B[-1, -1] = 1 # belt speed increase or decrease equal to last element of u\n",
    "    \n",
    "    ## feed pile stays the same\n",
    "    # for i in range(num_materials):\n",
    "    #     A[i, i] = 1\n",
    "    \n",
    "    \n",
    "    for i in range(num_materials-1):\n",
    "        \n",
    "        # move stuff down the conveyor belt (first station draws from feed pile)\n",
    "        row_start = (i+1)*num_materials\n",
    "        col_start = i*num_materials\n",
    "        for j in range(num_materials):\n",
    "            Ar = row_start+j\n",
    "            Ac = col_start+j\n",
    "            A[Ar, Ac] = 1\n",
    "        # remove material from flow at sorting stations\n",
    "        col_sort = num_materials**2 + i\n",
    "        A[row_start + i, col_sort] = -1\n",
    "        A[-1*(i+1), -1*(i+1)] = 1\n",
    "        \n",
    "    \n",
    "    # if num_materials == 4 and set_params == True:\n",
    "    #     print()\n",
    "    # else:\n",
    "    #     for i in range(num_materials):\n",
    "    #         B[i, -1] = np.random()\n",
    "    #         print('feed pile material a ')\n",
    "            \n",
    "    r_start = num_materials **2 -1\n",
    "            \n",
    "    for i in range(num_materials-1):\n",
    "        \n",
    "        # adjust sorting effrots as per controls\n",
    "        \n",
    "        B[r_start+i, i] = 1\n",
    "    \n",
    "    return A, B, x, u, Q, R"
   ]
  },
  {
   "cell_type": "code",
   "execution_count": 4,
   "id": "0221bba9",
   "metadata": {},
   "outputs": [],
   "source": [
    "A, B, x, u, Q, R = problem_constructor_qr(4)\n",
    "\n",
    "# initial conditions:\n",
    "x[-3] = 1\n",
    "x[-2] = 1\n",
    "x[-1] = 1\n",
    "\n",
    "\n",
    "u[-1] = -8\n",
    "\n",
    "for i in range(4):\n",
    "    x = dynamics(A, B, x, u)"
   ]
  },
  {
   "cell_type": "code",
   "execution_count": 5,
   "id": "1a277721",
   "metadata": {},
   "outputs": [
    {
     "name": "stdout",
     "output_type": "stream",
     "text": [
      "[2. 2. 2. 2. 1. 2. 2. 2. 1. 1. 2. 2. 1. 1. 1. 2. 1. 1. 1.]\n",
      "[ 0.  0.  0. -8.]\n",
      "[2. 2. 2. 2. 1. 2. 2. 2. 1. 1. 2. 2. 1. 1. 1. 2. 1. 1. 1.]\n",
      "111.0\n"
     ]
    }
   ],
   "source": [
    "print(x)\n",
    "print(u)\n",
    "# u[1] = -0.25\n",
    "# u[2] = 0.25\n",
    "\n",
    "u[1] = 0\n",
    "u[2] = 0\n",
    "\n",
    "u[-1] = -8\n",
    "\n",
    "for i in range (5):\n",
    "    x = dynamics(A, B, x, u)\n",
    "\n",
    "\n",
    "\n",
    "obj = x.T @ Q @ x + u.T @ R @ u\n",
    "\n",
    "print(x)\n",
    "print(obj)"
   ]
  },
  {
   "cell_type": "code",
   "execution_count": 374,
   "id": "f7f7167e",
   "metadata": {},
   "outputs": [
    {
     "data": {
      "text/plain": [
       "[<matplotlib.lines.Line2D at 0x7f1e158fbf10>]"
      ]
     },
     "execution_count": 374,
     "metadata": {},
     "output_type": "execute_result"
    },
    {
     "data": {
      "image/png": "[encoded data removed]",
      "text/plain": [
       "<Figure size 640x480 with 1 Axes>"
      ]
     },
     "metadata": {},
     "output_type": "display_data"
    }
   ],
   "source": [
    "import matplotlib.pyplot as plt\n",
    "\n",
    "exes = [0, 1, 2, 3, 4, 5, 6, 7, 8]\n",
    "ys = [0, 1.25, 5, 11.25, 20, 33, 52.75, 78.6875, 111]\n",
    "\n",
    "plt.plot(exes, ys)"
   ]
  },
  {
   "cell_type": "code",
   "execution_count": 70,
   "id": "38778283",
   "metadata": {},
   "outputs": [
    {
     "name": "stdout",
     "output_type": "stream",
     "text": [
      "0  0  0  -0.25  \n",
      "0  0  0  -0.25  \n",
      "0  0  0  -0.25  \n",
      "0  0  0  -0.25  \n",
      "0  0  0      0  \n",
      "0  0  0      0  \n",
      "0  0  0      0  \n",
      "0  0  0      0  \n",
      "0  0  0      0  \n",
      "0  0  0      0  \n",
      "0  0  0      0  \n",
      "0  0  0      0  \n",
      "0  0  0      0  \n",
      "0  0  0      0  \n",
      "0  0  0      0  \n",
      "1  0  0      0  \n",
      "0  1  0      0  \n",
      "0  0  1      0  \n",
      "0  0  0      0  \n"
     ]
    }
   ],
   "source": [
    "# R[-1, -1] = 0.1\n",
    "\n",
    "matprint(B)"
   ]
  },
  {
   "cell_type": "code",
   "execution_count": 375,
   "id": "adbc232b",
   "metadata": {},
   "outputs": [
    {
     "name": "stdout",
     "output_type": "stream",
     "text": [
      "===============================================================================\n",
      "                                     CVXPY                                     \n",
      "                                     v1.3.0                                    \n",
      "===============================================================================\n",
      "(CVXPY) Mar 21 01:40:54 PM: Your problem has 1169 variables, 56 constraints, and 0 parameters.\n",
      "(CVXPY) Mar 21 01:40:54 PM: It is compliant with the following grammars: DCP, DQCP\n",
      "(CVXPY) Mar 21 01:40:54 PM: (If you need to solve this problem multiple times, but with different data, consider using parameters.)\n",
      "(CVXPY) Mar 21 01:40:54 PM: CVXPY will first compile your problem; then, it will invoke a numerical solver to obtain a solution.\n",
      "-------------------------------------------------------------------------------\n",
      "                                  Compilation                                  \n",
      "-------------------------------------------------------------------------------\n",
      "(CVXPY) Mar 21 01:40:54 PM: Compiling problem (target solver=OSQP).\n",
      "(CVXPY) Mar 21 01:40:54 PM: Reduction chain: CvxAttr2Constr -> Qp2SymbolicQp -> QpMatrixStuffing -> OSQP\n",
      "(CVXPY) Mar 21 01:40:54 PM: Applying reduction CvxAttr2Constr\n",
      "(CVXPY) Mar 21 01:40:54 PM: Applying reduction Qp2SymbolicQp\n",
      "(CVXPY) Mar 21 01:40:54 PM: Applying reduction QpMatrixStuffing\n",
      "(CVXPY) Mar 21 01:40:54 PM: Applying reduction OSQP\n",
      "(CVXPY) Mar 21 01:40:54 PM: Finished problem compilation (took 1.385e-01 seconds).\n",
      "-------------------------------------------------------------------------------\n",
      "                                Numerical solver                               \n",
      "-------------------------------------------------------------------------------\n",
      "(CVXPY) Mar 21 01:40:54 PM: Invoking solver OSQP  to obtain a solution.\n",
      "-----------------------------------------------------------------\n",
      "           OSQP v0.6.2  -  Operator Splitting QP Solver\n",
      "              (c) Bartolomeo Stellato,  Goran Banjac\n",
      "        University of Oxford  -  Stanford University 2021\n",
      "-----------------------------------------------------------------\n",
      "problem:  variables n = 2338, constraints m = 3212\n",
      "          nnz(P) + nnz(A) = 6187\n",
      "settings: linear system solver = qdldl,\n",
      "          eps_abs = 1.0e-05, eps_rel = 1.0e-05,\n",
      "          eps_prim_inf = 1.0e-04, eps_dual_inf = 1.0e-04,\n",
      "          rho = 1.00e-01 (adaptive),\n",
      "          sigma = 1.00e-06, alpha = 1.60, max_iter = 10000\n",
      "          check_termination: on (interval 25),\n",
      "          scaling: on, scaled_termination: off\n",
      "          warm start: on, polish: on, time_limit: off\n",
      "\n",
      "iter   objective    pri res    dua res    rho        time\n",
      "   1   0.0000e+00   8.00e+00   8.00e+02   1.00e-01   2.30e-03s\n",
      "  50   1.0000e+30   8.00e+00   8.69e-01   2.27e+00   5.44e-03s\n",
      "\n",
      "status:               primal infeasible\n",
      "number of iterations: 50\n",
      "run time:             5.58e-03s\n",
      "optimal rho estimate: 8.23e+00\n",
      "\n",
      "-------------------------------------------------------------------------------\n",
      "                                    Summary                                    \n",
      "-------------------------------------------------------------------------------\n",
      "(CVXPY) Mar 21 01:40:54 PM: Problem status: infeasible\n",
      "(CVXPY) Mar 21 01:40:54 PM: Optimal value: inf\n",
      "(CVXPY) Mar 21 01:40:54 PM: Compilation took 1.385e-01 seconds\n",
      "(CVXPY) Mar 21 01:40:54 PM: Solver (including time spent in interface) took 7.123e-03 seconds\n"
     ]
    },
    {
     "data": {
      "text/plain": [
       "inf"
      ]
     },
     "execution_count": 375,
     "metadata": {},
     "output_type": "execute_result"
    }
   ],
   "source": [
    "## quadratic version\n",
    "h = 50\n",
    "\n",
    "X = cp.Variable((x.shape[0], h+1))\n",
    "U = cp.Variable((u.shape[0], h))\n",
    "\n",
    "cost = 0\n",
    "\n",
    "constraints = [\n",
    "    X >= 0, ## cant have negative stuff at a sorting station\n",
    "    cp.sum(X[-3:, :]) == 3, ## three workers total\n",
    "    X[:, 0] == x,\n",
    "    U[:, 0] == u,\n",
    "    U[-1, :] == 8,\n",
    "    U[-1, :] <= 0\n",
    "    ]\n",
    "\n",
    "\n",
    "\n",
    "for i in range(h):\n",
    "    constraints += [X[:, i+1] == A@X[:, i] + B@U[:, i]]\n",
    "    \n",
    "    cost += cp.quad_form(X[:, i], Q) + cp.quad_form(U[:, i], R)\n",
    "cost += cp.quad_form(X[:, -1], Q)\n",
    "\n",
    "\n",
    "problem = cp.Problem(cp.Minimize(cost), constraints)\n",
    "problem.solve(verbose=True)"
   ]
  },
  {
   "cell_type": "code",
   "execution_count": 63,
   "id": "b1ef51db",
   "metadata": {},
   "outputs": [],
   "source": [
    "X[:, 0].value"
   ]
  },
  {
   "cell_type": "code",
   "execution_count": 27,
   "id": "477337ea",
   "metadata": {},
   "outputs": [
    {
     "ename": "ValueError",
     "evalue": "Cannot broadcast dimensions  (19,) (4,)",
     "output_type": "error",
     "traceback": [
      "\u001b[0;31m---------------------------------------------------------------------------\u001b[0m",
      "\u001b[0;31mValueError\u001b[0m                                Traceback (most recent call last)",
      "Cell \u001b[0;32mIn[27], line 6\u001b[0m\n\u001b[1;32m      1\u001b[0m constraints \u001b[39m=\u001b[39m [\n\u001b[1;32m      2\u001b[0m     X \u001b[39m>\u001b[39m\u001b[39m=\u001b[39m \u001b[39m0\u001b[39m, \u001b[39m## cant have negative stuff at a sorting station\u001b[39;00m\n\u001b[1;32m      3\u001b[0m     cp\u001b[39m.\u001b[39msum(X[\u001b[39m-\u001b[39m\u001b[39m3\u001b[39m:]) \u001b[39m==\u001b[39m \u001b[39m3\u001b[39m \u001b[39m## three workers total\u001b[39;00m\n\u001b[1;32m      4\u001b[0m ]\n\u001b[0;32m----> 6\u001b[0m problem \u001b[39m=\u001b[39m cp\u001b[39m.\u001b[39mProblem(cp\u001b[39m.\u001b[39mMaximize(Q\u001b[39m@X\u001b[39;49m \u001b[39m+\u001b[39;49m R\u001b[39m@U\u001b[39;49m), constraints)\n",
      "File \u001b[0;32m~/anaconda3/envs/cvx2/lib/python3.10/site-packages/cvxpy/expressions/expression.py:50\u001b[0m, in \u001b[0;36m_cast_other.<locals>.cast_op\u001b[0;34m(self, other)\u001b[0m\n\u001b[1;32m     47\u001b[0m \u001b[39m\"\"\"A wrapped binary operator that can handle non-Expression arguments.\u001b[39;00m\n\u001b[1;32m     48\u001b[0m \u001b[39m\"\"\"\u001b[39;00m\n\u001b[1;32m     49\u001b[0m other \u001b[39m=\u001b[39m \u001b[39mself\u001b[39m\u001b[39m.\u001b[39mcast_to_const(other)\n\u001b[0;32m---> 50\u001b[0m \u001b[39mreturn\u001b[39;00m binary_op(\u001b[39mself\u001b[39;49m, other)\n",
      "File \u001b[0;32m~/anaconda3/envs/cvx2/lib/python3.10/site-packages/cvxpy/expressions/expression.py:561\u001b[0m, in \u001b[0;36mExpression.__add__\u001b[0;34m(self, other)\u001b[0m\n\u001b[1;32m    559\u001b[0m     \u001b[39mreturn\u001b[39;00m \u001b[39mself\u001b[39m\n\u001b[1;32m    560\u001b[0m \u001b[39mself\u001b[39m, other \u001b[39m=\u001b[39m \u001b[39mself\u001b[39m\u001b[39m.\u001b[39mbroadcast(\u001b[39mself\u001b[39m, other)\n\u001b[0;32m--> 561\u001b[0m \u001b[39mreturn\u001b[39;00m cvxtypes\u001b[39m.\u001b[39;49madd_expr()([\u001b[39mself\u001b[39;49m, other])\n",
      "File \u001b[0;32m~/anaconda3/envs/cvx2/lib/python3.10/site-packages/cvxpy/atoms/affine/add_expr.py:34\u001b[0m, in \u001b[0;36mAddExpression.__init__\u001b[0;34m(self, arg_groups)\u001b[0m\n\u001b[1;32m     31\u001b[0m \u001b[39mdef\u001b[39;00m \u001b[39m__init__\u001b[39m(\u001b[39mself\u001b[39m, arg_groups) \u001b[39m-\u001b[39m\u001b[39m>\u001b[39m \u001b[39mNone\u001b[39;00m:\n\u001b[1;32m     32\u001b[0m     \u001b[39m# For efficiency group args as sums.\u001b[39;00m\n\u001b[1;32m     33\u001b[0m     \u001b[39mself\u001b[39m\u001b[39m.\u001b[39m_arg_groups \u001b[39m=\u001b[39m arg_groups\n\u001b[0;32m---> 34\u001b[0m     \u001b[39msuper\u001b[39;49m(AddExpression, \u001b[39mself\u001b[39;49m)\u001b[39m.\u001b[39;49m\u001b[39m__init__\u001b[39;49m(\u001b[39m*\u001b[39;49marg_groups)\n\u001b[1;32m     35\u001b[0m     \u001b[39mself\u001b[39m\u001b[39m.\u001b[39margs \u001b[39m=\u001b[39m []\n\u001b[1;32m     36\u001b[0m     \u001b[39mfor\u001b[39;00m group \u001b[39min\u001b[39;00m arg_groups:\n",
      "File \u001b[0;32m~/anaconda3/envs/cvx2/lib/python3.10/site-packages/cvxpy/atoms/atom.py:51\u001b[0m, in \u001b[0;36mAtom.__init__\u001b[0;34m(self, *args)\u001b[0m\n\u001b[1;32m     49\u001b[0m \u001b[39mself\u001b[39m\u001b[39m.\u001b[39margs \u001b[39m=\u001b[39m [Atom\u001b[39m.\u001b[39mcast_to_const(arg) \u001b[39mfor\u001b[39;00m arg \u001b[39min\u001b[39;00m args]\n\u001b[1;32m     50\u001b[0m \u001b[39mself\u001b[39m\u001b[39m.\u001b[39mvalidate_arguments()\n\u001b[0;32m---> 51\u001b[0m \u001b[39mself\u001b[39m\u001b[39m.\u001b[39m_shape \u001b[39m=\u001b[39m \u001b[39mself\u001b[39;49m\u001b[39m.\u001b[39;49mshape_from_args()\n\u001b[1;32m     52\u001b[0m \u001b[39mif\u001b[39;00m \u001b[39mlen\u001b[39m(\u001b[39mself\u001b[39m\u001b[39m.\u001b[39m_shape) \u001b[39m>\u001b[39m \u001b[39m2\u001b[39m:\n\u001b[1;32m     53\u001b[0m     \u001b[39mraise\u001b[39;00m \u001b[39mValueError\u001b[39;00m(\u001b[39m\"\u001b[39m\u001b[39mAtoms must be at most 2D.\u001b[39m\u001b[39m\"\u001b[39m)\n",
      "File \u001b[0;32m~/anaconda3/envs/cvx2/lib/python3.10/site-packages/cvxpy/atoms/affine/add_expr.py:42\u001b[0m, in \u001b[0;36mAddExpression.shape_from_args\u001b[0;34m(self)\u001b[0m\n\u001b[1;32m     39\u001b[0m \u001b[39mdef\u001b[39;00m \u001b[39mshape_from_args\u001b[39m(\u001b[39mself\u001b[39m) \u001b[39m-\u001b[39m\u001b[39m>\u001b[39m Tuple[\u001b[39mint\u001b[39m, \u001b[39m.\u001b[39m\u001b[39m.\u001b[39m\u001b[39m.\u001b[39m]:\n\u001b[1;32m     40\u001b[0m     \u001b[39m\"\"\"Returns the (row, col) shape of the expression.\u001b[39;00m\n\u001b[1;32m     41\u001b[0m \u001b[39m    \"\"\"\u001b[39;00m\n\u001b[0;32m---> 42\u001b[0m     \u001b[39mreturn\u001b[39;00m u\u001b[39m.\u001b[39;49mshape\u001b[39m.\u001b[39;49msum_shapes([arg\u001b[39m.\u001b[39;49mshape \u001b[39mfor\u001b[39;49;00m arg \u001b[39min\u001b[39;49;00m \u001b[39mself\u001b[39;49m\u001b[39m.\u001b[39;49margs])\n",
      "File \u001b[0;32m~/anaconda3/envs/cvx2/lib/python3.10/site-packages/cvxpy/utilities/shape.py:50\u001b[0m, in \u001b[0;36msum_shapes\u001b[0;34m(shapes)\u001b[0m\n\u001b[1;32m     47\u001b[0m \u001b[39mfor\u001b[39;00m t \u001b[39min\u001b[39;00m shapes[\u001b[39m1\u001b[39m:]:\n\u001b[1;32m     48\u001b[0m     \u001b[39m# Only allow broadcasting for 0D arrays or summation of scalars.\u001b[39;00m\n\u001b[1;32m     49\u001b[0m     \u001b[39mif\u001b[39;00m shape \u001b[39m!=\u001b[39m t \u001b[39mand\u001b[39;00m \u001b[39mlen\u001b[39m(squeezed(shape)) \u001b[39m!=\u001b[39m \u001b[39m0\u001b[39m \u001b[39mand\u001b[39;00m \u001b[39mlen\u001b[39m(squeezed(t)) \u001b[39m!=\u001b[39m \u001b[39m0\u001b[39m:\n\u001b[0;32m---> 50\u001b[0m         \u001b[39mraise\u001b[39;00m \u001b[39mValueError\u001b[39;00m(\n\u001b[1;32m     51\u001b[0m             \u001b[39m\"\u001b[39m\u001b[39mCannot broadcast dimensions \u001b[39m\u001b[39m\"\u001b[39m \u001b[39m+\u001b[39m\n\u001b[1;32m     52\u001b[0m             \u001b[39mlen\u001b[39m(shapes)\u001b[39m*\u001b[39m\u001b[39m\"\u001b[39m\u001b[39m \u001b[39m\u001b[39m%s\u001b[39;00m\u001b[39m\"\u001b[39m \u001b[39m%\u001b[39m \u001b[39mtuple\u001b[39m(shapes))\n\u001b[1;32m     54\u001b[0m     longer \u001b[39m=\u001b[39m shape \u001b[39mif\u001b[39;00m \u001b[39mlen\u001b[39m(shape) \u001b[39m>\u001b[39m\u001b[39m=\u001b[39m \u001b[39mlen\u001b[39m(t) \u001b[39melse\u001b[39;00m t\n\u001b[1;32m     55\u001b[0m     shorter \u001b[39m=\u001b[39m shape \u001b[39mif\u001b[39;00m \u001b[39mlen\u001b[39m(shape) \u001b[39m<\u001b[39m \u001b[39mlen\u001b[39m(t) \u001b[39melse\u001b[39;00m t\n",
      "\u001b[0;31mValueError\u001b[0m: Cannot broadcast dimensions  (19,) (4,)"
     ]
    }
   ],
   "source": [
    "\n",
    "constraints = [\n",
    "    X >= 0, ## cant have negative stuff at a sorting station\n",
    "    cp.sum(X[-3:]) == 3 ## three workers total\n",
    "]\n",
    "\n",
    "problem = cp.Problem(cp.Maximize(Q@X + R@U), constraints)"
   ]
  },
  {
   "cell_type": "code",
   "execution_count": 93,
   "id": "f08108d6",
   "metadata": {},
   "outputs": [
    {
     "data": {
      "text/plain": [
       "inf"
      ]
     },
     "execution_count": 93,
     "metadata": {},
     "output_type": "execute_result"
    }
   ],
   "source": [
    "problem.solve()"
   ]
  },
  {
   "cell_type": "code",
   "execution_count": 95,
   "id": "371b1d1d",
   "metadata": {},
   "outputs": [],
   "source": [
    "X.value"
   ]
  },
  {
   "cell_type": "code",
   "execution_count": 3,
   "id": "79854f24",
   "metadata": {},
   "outputs": [],
   "source": [
    "def problem_constructor_LP(num_materials = 4, set_params = False):\n",
    "    \n",
    "    '''\n",
    "    x order: (assuming 4 materials)\n",
    "    initial state (4)\n",
    "    stage 1 (4)\n",
    "    stage 2 (4)\n",
    "    stage 3/out material 4 (4) \n",
    "    effort mat 1\n",
    "    effort mat 2\n",
    "    effort mat 3\n",
    "    belt speed\n",
    "    '''\n",
    "    nx = 0\n",
    "    # nx += num_materials  # compisition of feed pile, normalized to 1\n",
    "    nx += num_materials ** 2 # quantity of each material at each stage (intake, stage 1, stage ..., stage num_material-1)\n",
    "    nx += num_materials - 1 # effort at each positive sort station\n",
    "    # nx += 1 # belt speed (really, how much to take from feed pile each time step)\n",
    "    \n",
    "    nu = num_materials - 1 # how much to increase or decrease effort at each positive sort station\n",
    "    nu += 1 #how much to increase or decrease belt speed\n",
    "    \n",
    "    x = np.zeros((nx))\n",
    "    u = np.zeros((nu))\n",
    "    \n",
    "    A = np.zeros((nx, nx))\n",
    "    B = np.zeros((nx, nu))\n",
    "    Q_vect = np.zeros((nx))\n",
    "    R_vect = np.ones((nu))\n",
    "    \n",
    "    \n",
    "    ## assemble a and b matrices\n",
    "    \n",
    "    priceA = 13 #$/ton\n",
    "    priceB = 10 #$/ton\n",
    "    priceC = 20 #$/ton\n",
    "    priceD = 4 #$/ton\n",
    "    \n",
    "    Q_vect[-1] = priceC\n",
    "    Q_vect[-2] = priceB\n",
    "    Q_vect[-3] = priceA\n",
    "    Q_vect[-4] = priceD\n",
    "    Q_vect[-5] = priceD\n",
    "    Q_vect[-6] = priceD\n",
    "    Q_vect[-7] = priceD\n",
    "    \n",
    "    R_vect *= -1\n",
    "    R_vect[-1] = 0\n",
    "    \n",
    "    # Q = np.diag(Q_vect)\n",
    "    # R = np.diag(R_vect)\n",
    "    \n",
    "    \n",
    "    \n",
    "    \n",
    "    # feedA = 0.5\n",
    "    # feedB = 1\n",
    "    # feedC = .8\n",
    "    # feedD = 0.2\n",
    "    feedA = 1\n",
    "    feedB = 1\n",
    "    feedC = 1\n",
    "    feedD = 1\n",
    "    \n",
    "    \n",
    "    sum = feedA + feedB + feedC + feedD\n",
    "    feedA = feedA/sum\n",
    "    feedB = feedB/sum\n",
    "    feedC = feedC/sum\n",
    "    feedD = feedD/sum\n",
    "    \n",
    "    B[0, -1] = feedA\n",
    "    B[1, -1] = feedB\n",
    "    B[2, -1] = feedC\n",
    "    B[3, -1] = feedD\n",
    "    \n",
    "    \n",
    "    \n",
    "    # top part of last column of b encodes feed pile ratios, u[-1] is how much feed pile to put in first few rows of x\n",
    "    \n",
    "    \n",
    "    # A[-1, -1] = 1 # belt speed no state transition\n",
    "    # B[-1, -1] = 1 # belt speed increase or decrease equal to last element of u\n",
    "    \n",
    "    ## feed pile stays the same\n",
    "    # for i in range(num_materials):\n",
    "    #     A[i, i] = 1\n",
    "    \n",
    "    \n",
    "    for i in range(num_materials-1):\n",
    "        \n",
    "        # move stuff down the conveyor belt (first station draws from feed pile)\n",
    "        row_start = (i+1)*num_materials\n",
    "        col_start = i*num_materials\n",
    "        for j in range(num_materials):\n",
    "            Ar = row_start+j\n",
    "            Ac = col_start+j\n",
    "            A[Ar, Ac] = 1\n",
    "        # remove material from flow at sorting stations\n",
    "        col_sort = num_materials**2 + i\n",
    "        A[row_start + i, col_sort] = -1\n",
    "        A[-1*(i+1), -1*(i+1)] = 1\n",
    "        \n",
    "    \n",
    "    # if num_materials == 4 and set_params == True:\n",
    "    #     print()\n",
    "    # else:\n",
    "    #     for i in range(num_materials):\n",
    "    #         B[i, -1] = np.random()\n",
    "    #         print('feed pile material a ')\n",
    "            \n",
    "    r_start = num_materials **2 -1\n",
    "            \n",
    "    for i in range(num_materials-1):\n",
    "        \n",
    "        # adjust sorting effrots as per controls\n",
    "        \n",
    "        B[r_start+i, i] = 1\n",
    "    \n",
    "    return A, B, x, u, Q_vect, R_vect"
   ]
  },
  {
   "cell_type": "code",
   "execution_count": 4,
   "id": "c0aa5afb",
   "metadata": {},
   "outputs": [],
   "source": [
    "A, B, x, u, Q, R = problem_constructor_LP(4)\n",
    "\n",
    "# initial conditions:\n",
    "x[-3] = 1\n",
    "x[-2] = 1\n",
    "x[-1] = 1\n",
    "R[-1] = -0.1\n",
    "\n",
    "u[-1] = 8"
   ]
  },
  {
   "cell_type": "code",
   "execution_count": 6,
   "id": "20fd3a99",
   "metadata": {},
   "outputs": [],
   "source": [
    "def matprint(mat, fmt=\"g\"):\n",
    "    col_maxes = [max([len((\"{:\"+fmt+\"}\").format(x)) for x in col]) for col in mat.T]\n",
    "    for x in mat:\n",
    "        for i, y in enumerate(x):\n",
    "            print((\"{:\"+str(col_maxes[i])+fmt+\"}\").format(y), end=\"  \")\n",
    "        print(\"\")"
   ]
  },
  {
   "cell_type": "code",
   "execution_count": 17,
   "id": "8f7f9b5a",
   "metadata": {},
   "outputs": [
    {
     "data": {
      "text/plain": [
       "array([-1. , -1. , -1. , -0.1])"
      ]
     },
     "execution_count": 17,
     "metadata": {},
     "output_type": "execute_result"
    }
   ],
   "source": [
    "R\n",
    "\n"
   ]
  },
  {
   "cell_type": "code",
   "execution_count": 78,
   "id": "8f66b8a0",
   "metadata": {},
   "outputs": [
    {
     "name": "stdout",
     "output_type": "stream",
     "text": [
      "[2.   2.   2.   2.   1.75 2.   2.   2.   1.75 1.   2.   2.   1.75 1.\n",
      " 1.   1.75 0.5  1.   1.  ]\n",
      "61.75\n",
      "[2.   2.   2.   2.   1.5  2.   2.   2.   1.75 1.   2.   2.   1.75 1.\n",
      " 1.   1.75 0.75 1.   1.  ]\n"
     ]
    }
   ],
   "source": [
    "print(x)\n",
    "\n",
    "# u[0] =-0.25\n",
    "# u[1] = 0.25\n",
    "\n",
    "# u[0] =0\n",
    "# u[1] = 0\n",
    "\n",
    "\n",
    "x = dynamics(A, B, x, u)\n",
    "obj = Q@x + R@u\n",
    "\n",
    "\n",
    "print(obj)\n",
    "print(x)"
   ]
  },
  {
   "cell_type": "code",
   "execution_count": 109,
   "id": "f51003a4",
   "metadata": {},
   "outputs": [
    {
     "name": "stdout",
     "output_type": "stream",
     "text": [
      "===============================================================================\n",
      "                                     CVXPY                                     \n",
      "                                     v1.3.0                                    \n",
      "===============================================================================\n",
      "(CVXPY) Mar 17 09:30:19 AM: Your problem has 1169 variables, 201 constraints, and 0 parameters.\n",
      "(CVXPY) Mar 17 09:30:19 AM: It is compliant with the following grammars: DCP, DQCP\n",
      "(CVXPY) Mar 17 09:30:19 AM: (If you need to solve this problem multiple times, but with different data, consider using parameters.)\n",
      "(CVXPY) Mar 17 09:30:19 AM: CVXPY will first compile your problem; then, it will invoke a numerical solver to obtain a solution.\n",
      "-------------------------------------------------------------------------------\n",
      "                                  Compilation                                  \n",
      "-------------------------------------------------------------------------------\n",
      "(CVXPY) Mar 17 09:30:19 AM: Compiling problem (target solver=ECOS).\n",
      "(CVXPY) Mar 17 09:30:19 AM: Reduction chain: FlipObjective -> Dcp2Cone -> CvxAttr2Constr -> ConeMatrixStuffing -> ECOS\n",
      "(CVXPY) Mar 17 09:30:19 AM: Applying reduction FlipObjective\n",
      "(CVXPY) Mar 17 09:30:19 AM: Applying reduction Dcp2Cone\n",
      "(CVXPY) Mar 17 09:30:19 AM: Applying reduction CvxAttr2Constr\n",
      "(CVXPY) Mar 17 09:30:19 AM: Applying reduction ConeMatrixStuffing\n",
      "(CVXPY) Mar 17 09:30:19 AM: Applying reduction ECOS\n",
      "(CVXPY) Mar 17 09:30:19 AM: Finished problem compilation (took 3.469e-01 seconds).\n",
      "-------------------------------------------------------------------------------\n",
      "                                Numerical solver                               \n",
      "-------------------------------------------------------------------------------\n",
      "(CVXPY) Mar 17 09:30:19 AM: Invoking solver ECOS  to obtain a solution.\n",
      "\n",
      "ECOS 2.0.10 - (C) embotech GmbH, Zurich Switzerland, 2012-15. Web: www.embotech.com/ECOS\n",
      "\n",
      "It     pcost       dcost      gap   pres   dres    k/t    mu     step   sigma     IR    |   BT\n",
      " 0  -8.308e+02  -8.308e+02  +1e+05  9e-01  5e-01  1e+00  3e+00    ---    ---    2  1  - |  -  - \n",
      " 1  +4.462e+04  +4.473e+04  +5e+04  9e+01  2e+01  2e+02  1e+00  0.7865  2e-01   1  1  2 |  0  0\n",
      " 2  +6.012e+02  +2.760e+03  +2e+04  4e+01  2e+00  2e+03  4e-01  0.9890  4e-01   2  1  1 |  0  0\n",
      " 3  +6.207e+03  +1.768e+05  +5e+02  2e+03  4e+00  2e+05  9e-03  0.9805  2e-03   1  2  2 |  0  0\n",
      " 4  +7.076e+03  +1.693e+07  +5e+00  7e+03  5e+00  2e+07  1e-04  0.9884  1e-04   1  2  2 |  0  0\n",
      " 5  +6.814e+03  +1.492e+09  +6e-02  7e+03  5e+00  1e+09  1e-06  0.9890  1e-04   2  2  2 |  0  0\n",
      " 6  +6.759e+03  +1.344e+11  +7e-04  7e+03  5e+00  1e+11  1e-08  0.9890  1e-04   2  1  1 |  0  0\n",
      "\n",
      "PRIMAL INFEASIBLE (within feastol=1.7e-09).-------------------------------------------------------------------------------\n",
      "                                    Summary                                    \n",
      "-------------------------------------------------------------------------------\n",
      "(CVXPY) Mar 17 09:30:20 AM: Problem status: infeasible\n",
      "\n",
      "Runtime: 0.136879 seconds.\n",
      "\n",
      "(CVXPY) Mar 17 09:30:20 AM: Optimal value: -inf\n",
      "(CVXPY) Mar 17 09:30:20 AM: Compilation took 3.469e-01 seconds\n",
      "(CVXPY) Mar 17 09:30:20 AM: Solver (including time spent in interface) took 1.395e-01 seconds\n"
     ]
    },
    {
     "data": {
      "text/plain": [
       "-inf"
      ]
     },
     "execution_count": 109,
     "metadata": {},
     "output_type": "execute_result"
    }
   ],
   "source": [
    "T = 50\n",
    "X = cp.Variable((x.shape[0], T+1))\n",
    "U = cp.Variable((u.shape[0], T))\n",
    "\n",
    "reward = 0\n",
    "constraints = []\n",
    "\n",
    "for t in range(T):\n",
    "    reward += Q@X[:, t+1] + R@U[:, t]\n",
    "    constraints += [X[:, t+1] == A @ X[:, t] + B@U[:, t], cp.sum(U[:, :-1]) == 0, cp.sum(X[:, -3:]) == 3, X >= 0]\n",
    "    \n",
    "constraints += [X[:, 0] == x]\n",
    "\n",
    "problem = cp.Problem(cp.Maximize(reward), constraints)\n",
    "problem.solve(verbose=True)"
   ]
  },
  {
   "cell_type": "code",
   "execution_count": 106,
   "id": "5d606b55",
   "metadata": {},
   "outputs": [
    {
     "data": {
      "text/plain": [
       "array([ 0.,  0.,  0.,  0.,  0.,  0.,  0.,  0.,  0.,  0.,  0.,  0.,  4.,\n",
       "        4.,  4.,  4., 13., 10., 20.])"
      ]
     },
     "execution_count": 106,
     "metadata": {},
     "output_type": "execute_result"
    }
   ],
   "source": [
    "Q"
   ]
  },
  {
   "cell_type": "code",
   "execution_count": 107,
   "id": "6c94fc03",
   "metadata": {},
   "outputs": [
    {
     "data": {
      "text/plain": [
       "array([-1., -1., -1.,  0.])"
      ]
     },
     "execution_count": 107,
     "metadata": {},
     "output_type": "execute_result"
    }
   ],
   "source": [
    "R\n"
   ]
  },
  {
   "cell_type": "code",
   "execution_count": null,
   "id": "2f499f1f",
   "metadata": {},
   "outputs": [],
   "source": []
  }
 ],
 "metadata": {
  "kernelspec": {
   "display_name": "Python 3.10.9 ('cvx2')",
   "language": "python",
   "name": "python3"
  },
  "language_info": {
   "codemirror_mode": {
    "name": "ipython",
    "version": 3
   },
   "file_extension": ".py",
   "mimetype": "text/x-python",
   "name": "python",
   "nbconvert_exporter": "python",
   "pygments_lexer": "ipython3",
   "version": "3.10.9"
  },
  "vscode": {
   "interpreter": {
    "hash": "b7be0699ec21e4bf37dfb181e05c1b2a32bbd732f5d3cd37ba84456483b49c02"
   }
  }
 },
 "nbformat": 4,
 "nbformat_minor": 5
}
