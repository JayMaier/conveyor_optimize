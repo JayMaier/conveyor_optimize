{
 "cells": [
  {
   "cell_type": "code",
   "execution_count": 1,
   "id": "a01918ab",
   "metadata": {
    "tags": []
   },
   "outputs": [],
   "source": [
    "import numpy as np\n",
    "# import cvxpy as cp\n",
    "import matplotlib.pyplot as plt\n",
    "import matplotlib\n",
    "%matplotlib qt\n",
    "import seaborn as sns\n",
    "import time\n",
    "import scipy.stats\n",
    "\n",
    "def matprint(mat, fmt=\"g\"):\n",
    "    col_maxes = [max([len((\"{:\"+fmt+\"}\").format(x)) for x in col]) for col in mat.T]\n",
    "    for x in mat:\n",
    "        \n",
    "        for i, y in enumerate(x):\n",
    "            print((\"{:\"+str(col_maxes[i])+fmt+\"}\").format(y), end=\"  \")\n",
    "        print(\"\")"
   ]
  },
  {
   "cell_type": "code",
   "execution_count": 2,
   "id": "f31989ea",
   "metadata": {
    "tags": []
   },
   "outputs": [],
   "source": [
    "'''\n",
    "using 3 types of material, measurement points intake, after a, after b\n",
    "\n",
    "'''\n",
    "\n",
    "def dynamics(A, B, x, u):\n",
    "    x_new = A @ x + B @ u\n",
    "    x_new[x_new < 0] = 0  #clip material quantities to zero\n",
    "    return x_new\n",
    "    \n",
    "    \n",
    "def problem_constructor_LP(num_materials = 4, param = 1, d=1, set_params = False):\n",
    "    \n",
    "    '''\n",
    "    x order: (assuming 4 materials)\n",
    "    initial state (4)\n",
    "    stage 1 (4)\n",
    "    stage 2 (4)\n",
    "    stage 3/out material 4 (4) \n",
    "    effort mat 1\n",
    "    effort mat 2\n",
    "    effort mat 3\n",
    "    belt speed\n",
    "    '''\n",
    "    nx = 0\n",
    "    nu = 0\n",
    "    # nx += num_materials  # compisition of feed pile, normalized to 1\n",
    "    nx += num_materials ** 2 # quantity of each material at each stage (intake, stage 1, stage ..., stage num_material-1)\n",
    "    nx += num_materials - 1 # effort at each positive sort station\n",
    "    # nx += 1 # belt speed (really, how much to take from feed pile each time step)\n",
    "    \n",
    "    # nu = num_materials - 1 # how much to increase or decrease effort at each positive sort station\n",
    "    nu += 1 #how much to increase or decrease belt speed\n",
    "    \n",
    "    x = np.zeros((nx))\n",
    "    u = np.zeros((nu))\n",
    "    \n",
    "    A = np.zeros((nx, nx))\n",
    "    B = np.zeros((nx, nu))\n",
    "    Q_vect_plenty = np.zeros((nx))\n",
    "    R_vect = np.ones((nu))\n",
    "    Q_vect_tapped = np.zeros((nx))\n",
    "    \n",
    "    \n",
    "    ## assemble a and b matrices\n",
    "    \n",
    "    priceA = 66 #$/ton HDPE\n",
    "    priceB = 13 #$/ton pet\n",
    "    priceC = 5 #$/ton pp\n",
    "    priceD = 1 #$/ton 3-7 comingled\n",
    "    \n",
    "    # Q_vect_plenty[-1] = priceC\n",
    "    # Q_vect_plenty[-2] = priceB\n",
    "    # Q_vect_plenty[-3] = priceA\n",
    "    # Q_vect_plenty[-4] = priceD-priceA\n",
    "    # Q_vect_plenty[-5] = priceD-priceB\n",
    "    # Q_vect_plenty[-6] = priceD-priceC\n",
    "    # Q_vect_plenty[-7] = priceD\n",
    "    \n",
    "    Q_vect_tapped[0] = priceA\n",
    "    Q_vect_tapped[5] = priceB\n",
    "    Q_vect_tapped[10] = priceC\n",
    "    Q_vect_tapped[-4] = priceD\n",
    "    Q_vect_tapped[-5] = priceD-priceC\n",
    "    Q_vect_tapped[-6] = priceD-priceB\n",
    "    Q_vect_tapped[-7] = priceD - priceA\n",
    "    \n",
    "    # R_vect *= -1\n",
    "    # R_vect[-1] = 0\n",
    "    \n",
    "    # Q = np.diag(Q_vect)\n",
    "    # R = np.diag(R_vect)\n",
    "    \n",
    "    \n",
    "    \n",
    "    \n",
    "    # feedA = 0.5\n",
    "    # feedB = 1\n",
    "    # feedC = .8\n",
    "    # feedD = 0.2\n",
    "    feedA = 1 * param\n",
    "    feedB = 1\n",
    "    feedC = 1\n",
    "    feedD = 1\n",
    "    \n",
    "    \n",
    "    sum = feedA + feedB + feedC + feedD\n",
    "    feedA = feedA/sum\n",
    "    feedB = feedB/sum\n",
    "    feedC = feedC/sum\n",
    "    feedD = feedD/sum\n",
    "    \n",
    "    B[0, -1] = feedA\n",
    "    B[1, -1] = feedB\n",
    "    B[2, -1] = feedC\n",
    "    B[3, -1] = feedD\n",
    "    \n",
    "    \n",
    "    \n",
    "    # top part of last column of b encodes feed pile ratios, u[-1] is how much feed pile to put in first few rows of x\n",
    "    \n",
    "    \n",
    "    # A[-1, -1] = 1 # belt speed no state transition\n",
    "    # B[-1, -1] = 1 # belt speed increase or decrease equal to last element of u\n",
    "    \n",
    "    ## feed pile stays the same\n",
    "    # for i in range(num_materials):\n",
    "    #     A[i, i] = 1\n",
    "    \n",
    "    \n",
    "    for i in range(num_materials-1):\n",
    "        \n",
    "        # move stuff down the conveyor belt (first station draws from feed pile)\n",
    "        row_start = (i+1)*num_materials\n",
    "        col_start = i*num_materials\n",
    "        for j in range(num_materials):\n",
    "            Ar = row_start+j\n",
    "            Ac = col_start+j\n",
    "            A[Ar, Ac] = 1\n",
    "        # remove material from flow at sorting stations\n",
    "        col_sort = num_materials**2 + i\n",
    "        A[row_start + i, col_sort] = -1\n",
    "        A[-1*(i+1), -1*(i+1)] = 1\n",
    "        \n",
    "    \n",
    "    # if num_materials == 4 and set_params == True:\n",
    "    #     print()\n",
    "    # else:\n",
    "    #     for i in range(num_materials):\n",
    "    #         B[i, -1] = np.random()\n",
    "    #         print('feed pile material a ')\n",
    "            \n",
    "    # r_start = num_materials **2 -1\n",
    "            \n",
    "    # for i in range(num_materials-1):\n",
    "        \n",
    "    #     # adjust sorting effrots as per controls\n",
    "        \n",
    "    #     B[r_start+i, i] = 1\n",
    "    \n",
    "    return A, B, x, u, Q_vect_tapped, R_vect\n",
    "\n",
    "def traj_cost(u_traj, x_init, A, B, Q, R):\n",
    "    #inputs: vector of delta speeds, initial x vector\n",
    "    \n",
    "    N = u_traj.shape[0]\n",
    "    x_traj = np.zeros((N+1, x_init.shape[0]))\n",
    "    x_traj[0] = x_init\n",
    "    cost = 0\n",
    "    x_mask = 1000000000*np.ones_like(x_init)\n",
    "    x_mask[0] = 1\n",
    "    x_mask[5] = 1\n",
    "    x_mask[10] = 1\n",
    "    \n",
    "    for k in range(N):\n",
    "        # print(A.shape)\n",
    "        # print(B.shape)\n",
    "        # print(x_traj[k].shape)\n",
    "        # print(u_traj[k])\n",
    "        # print(dynamics(A, B, x_traj[k], u_traj[k]))\n",
    "        x_traj[k+1] = dynamics(A, B, x_traj[k], u_traj[k])\n",
    "        cost += Q @ np.minimum(x_traj[k+1], x_mask) + R @ u_traj[k]\n",
    "        # print(cost, k)\n",
    "        \n",
    "    return cost\n",
    "    \n",
    "    #output: scalar cost\n",
    "    "
   ]
  },
  {
   "cell_type": "code",
   "execution_count": 3,
   "id": "07fc5515",
   "metadata": {
    "tags": []
   },
   "outputs": [
    {
     "ename": "NameError",
     "evalue": "name 'x' is not defined",
     "output_type": "error",
     "traceback": [
      "\u001b[0;31m---------------------------------------------------------------------------\u001b[0m",
      "\u001b[0;31mNameError\u001b[0m                                 Traceback (most recent call last)",
      "Cell \u001b[0;32mIn[3], line 5\u001b[0m\n\u001b[1;32m      3\u001b[0m delta \u001b[38;5;241m=\u001b[39m \u001b[38;5;241m0.01\u001b[39m\n\u001b[1;32m      4\u001b[0m deltas \u001b[38;5;241m=\u001b[39m delta \u001b[38;5;241m*\u001b[39m np\u001b[38;5;241m.\u001b[39mdiag(np\u001b[38;5;241m.\u001b[39mones_like(u_traj)\u001b[38;5;241m.\u001b[39mT[\u001b[38;5;241m0\u001b[39m])\n\u001b[0;32m----> 5\u001b[0m base_cost \u001b[38;5;241m=\u001b[39m traj_cost(u_traj, x, A, B, Q, R)\n\u001b[1;32m      6\u001b[0m diff \u001b[38;5;241m=\u001b[39m np\u001b[38;5;241m.\u001b[39mzeros_like(u_traj)\n\u001b[1;32m      8\u001b[0m \u001b[38;5;28;01mfor\u001b[39;00m i \u001b[38;5;129;01min\u001b[39;00m \u001b[38;5;28mrange\u001b[39m(u_traj\u001b[38;5;241m.\u001b[39mshape[\u001b[38;5;241m0\u001b[39m]):\n",
      "\u001b[0;31mNameError\u001b[0m: name 'x' is not defined"
     ]
    }
   ],
   "source": [
    "u_traj =np.ones((4, 1))\n",
    "\n",
    "delta = 0.01\n",
    "deltas = delta * np.diag(np.ones_like(u_traj).T[0])\n",
    "base_cost = traj_cost(u_traj, x, A, B, Q, R)\n",
    "diff = np.zeros_like(u_traj)\n",
    "\n",
    "for i in range(u_traj.shape[0]):\n",
    "        diff[i] = (traj_cost((u_traj.T[0]+deltas[i])[:, np.newaxis], x, A, B, Q, R) - base_cost)/delta\n",
    "        print(\"diffi: \", diff[i])\n",
    "        \n",
    "# traj_cost((u_traj.T[0]+deltas[0])[:, np.newaxis], x, A, B, Q, R)"
   ]
  },
  {
   "cell_type": "code",
   "execution_count": 4,
   "id": "f7f7167e",
   "metadata": {
    "tags": []
   },
   "outputs": [
    {
     "name": "stdout",
     "output_type": "stream",
     "text": [
      "Converged! solve time (sec):  0.5391626358032227 iters:  99\n",
      "[[1.99534309]\n",
      " [1.99534309]\n",
      " [1.99534309]\n",
      " [1.99534309]\n",
      " [1.99534309]\n",
      " [4.88      ]\n",
      " [4.71333333]\n",
      " [4.285     ]]\n"
     ]
    }
   ],
   "source": [
    "# loop structure\n",
    "\n",
    "# init problem\n",
    "A, B, x, u, Q, R = problem_constructor_LP(4, param = 3)\n",
    "\n",
    "    # initial conditions:\n",
    "x[-3] = 1\n",
    "x[-2] = 1\n",
    "x[-1] = 1\n",
    "R[-1] = -0.1\n",
    "u_traj =1*np.ones((8, 1))\n",
    "\n",
    "# set starting state\n",
    "\n",
    "start_time = time.time()\n",
    "# get gradients from finite diff\n",
    "delta = 0.01\n",
    "deltas = delta * np.diag(np.ones_like(u_traj).T[0])\n",
    "\n",
    "lr = 0.1\n",
    "diff = 10*np.ones_like(u_traj)\n",
    "for j in range(100):\n",
    "    base_cost = traj_cost(u_traj, x, A, B, Q, R)\n",
    "    plt.scatter(u_traj[0], base_cost, label=\"Iteration: \"+str(j))\n",
    "    \n",
    "    # print(\"\\n\\nbase_cost: \", base_cost)\n",
    "    # print('u_traj', u_traj)\n",
    "    if np.linalg.norm(diff) < 0.01:\n",
    "        # print(\"converged in all values!\")\n",
    "        break\n",
    "    for i in range(u_traj.shape[0]):\n",
    "        if np.linalg.norm(diff[i]) > 1.01:\n",
    "            diff[i] = (traj_cost((u_traj.T[0]+deltas[i])[:, np.newaxis], x, A, B, Q, R) - base_cost)/delta\n",
    "        else:\n",
    "            diff[i] = 0\n",
    "            # print('converged: , ', i)\n",
    "        \n",
    "        # print(\"diffi: \", diff[i])\n",
    "        \n",
    "    u_traj += lr*diff\n",
    "    # print('Cost', base_cost)\n",
    "    # print('update:', diff)\n",
    "    \n",
    "    lr*=0.5\n",
    "plt.scatter(u_traj[0], base_cost, s=400,color='r', marker=(5, 1))\n",
    "print(\"Converged! solve time (sec): \", time.time() - start_time, 'iters: ', j)\n",
    "# plt.legend()\n",
    "plt.xlabel('Belt Speed')\n",
    "plt.ylabel('Objective Function Value')\n",
    "plt.show()\n",
    "print(u_traj)\n",
    "# update decision variables\n",
    "\n"
   ]
  },
  {
   "cell_type": "code",
   "execution_count": 5,
   "id": "94b16c02",
   "metadata": {
    "tags": []
   },
   "outputs": [
    {
     "data": {
      "text/plain": [
       "array([[0.01, 0.  , 0.  , 0.  , 0.  , 0.  , 0.  , 0.  ],\n",
       "       [0.  , 0.01, 0.  , 0.  , 0.  , 0.  , 0.  , 0.  ],\n",
       "       [0.  , 0.  , 0.01, 0.  , 0.  , 0.  , 0.  , 0.  ],\n",
       "       [0.  , 0.  , 0.  , 0.01, 0.  , 0.  , 0.  , 0.  ],\n",
       "       [0.  , 0.  , 0.  , 0.  , 0.01, 0.  , 0.  , 0.  ],\n",
       "       [0.  , 0.  , 0.  , 0.  , 0.  , 0.01, 0.  , 0.  ],\n",
       "       [0.  , 0.  , 0.  , 0.  , 0.  , 0.  , 0.01, 0.  ],\n",
       "       [0.  , 0.  , 0.  , 0.  , 0.  , 0.  , 0.  , 0.01]])"
      ]
     },
     "execution_count": 5,
     "metadata": {},
     "output_type": "execute_result"
    }
   ],
   "source": [
    "deltas"
   ]
  },
  {
   "cell_type": "code",
   "execution_count": 5,
   "id": "a344db10",
   "metadata": {},
   "outputs": [],
   "source": [
    "def solve_next_step(x, u_traj_last, A, B, Q, R):\n",
    "    \n",
    "    u_traj = np.copy(u_traj_last)\n",
    "    delta = 0.01\n",
    "    deltas = delta * np.diag(np.ones_like(u_traj).T[0])\n",
    "\n",
    "    lr = 0.1\n",
    "    diff = 10*np.ones_like(u_traj)\n",
    "    for j in range(1000):\n",
    "        base_cost = traj_cost(u_traj, x, A, B, Q, R)\n",
    "        # if np.linalg.norm(diff) < 0.01:\n",
    "        #     break\n",
    "        for i in range(u_traj.shape[0]):\n",
    "            if np.linalg.norm(diff[i]) > 1.01:\n",
    "                diff[i] = (traj_cost((u_traj.T[0]+deltas[i])[:, np.newaxis], x, A, B, Q, R) - base_cost)/delta\n",
    "            else:\n",
    "                diff[i] = 0\n",
    "\n",
    "        u_traj += lr*diff * np.random.random(size=1)\n",
    "        \n",
    "        \n",
    "        lr*0.9\n",
    "    \n",
    "    return u_traj"
   ]
  },
  {
   "cell_type": "code",
   "execution_count": 286,
   "id": "40bbcf04",
   "metadata": {},
   "outputs": [
    {
     "data": {
      "text/plain": [
       "array([[0.25],\n",
       "       [0.25],\n",
       "       [0.25],\n",
       "       [0.25],\n",
       "       [0.  ],\n",
       "       [0.  ],\n",
       "       [0.  ],\n",
       "       [0.  ],\n",
       "       [0.  ],\n",
       "       [0.  ],\n",
       "       [0.  ],\n",
       "       [0.  ],\n",
       "       [0.  ],\n",
       "       [0.  ],\n",
       "       [0.  ],\n",
       "       [0.  ],\n",
       "       [0.  ],\n",
       "       [0.  ],\n",
       "       [0.  ]])"
      ]
     },
     "execution_count": 286,
     "metadata": {},
     "output_type": "execute_result"
    }
   ],
   "source": [
    "B"
   ]
  },
  {
   "cell_type": "code",
   "execution_count": null,
   "id": "effc6223",
   "metadata": {},
   "outputs": [],
   "source": []
  },
  {
   "cell_type": "code",
   "execution_count": null,
   "id": "a84caba1",
   "metadata": {},
   "outputs": [],
   "source": []
  },
  {
   "cell_type": "code",
   "execution_count": null,
   "id": "79854f24",
   "metadata": {},
   "outputs": [],
   "source": []
  },
  {
   "cell_type": "code",
   "execution_count": null,
   "id": "a18b6d97",
   "metadata": {},
   "outputs": [],
   "source": []
  },
  {
   "cell_type": "code",
   "execution_count": 38,
   "id": "94a4bc4f",
   "metadata": {},
   "outputs": [],
   "source": [
    "ax = sns.heatmap(mat, linewidth=0.5, xticklabels = np.round(exes, 2), yticklabels = np.round(exes_log, 2), cbar_kws={'label': 'Steady-State Objective Function Value'})\n",
    "plt.xlabel('Belt Speed')\n",
    "plt.ylabel('Quantity of HDPE in Flow')\n",
    "plt.show()\n"
   ]
  },
  {
   "cell_type": "code",
   "execution_count": 3,
   "id": "b775682e",
   "metadata": {},
   "outputs": [
    {
     "data": {
      "text/plain": [
       "[<matplotlib.lines.Line2D at 0x7efe7494d750>]"
      ]
     },
     "execution_count": 3,
     "metadata": {},
     "output_type": "execute_result"
    }
   ],
   "source": [
    "# code structure:\n",
    "n_materials = 4\n",
    "\n",
    "horizon = 100\n",
    "\n",
    "infeed = np.ones((100, 4))\n",
    "\n",
    "num_hits = 10\n",
    "x = np.arange(0, 100, 1)\n",
    "\n",
    "hits_1 = np.random.randint(0, 100, num_hits)\n",
    "hits_2 = np.random.randint(0, 100, num_hits)\n",
    "hits_3 = np.random.randint(0, 100, num_hits)\n",
    "hits_4 = np.random.randint(0, 100, num_hits)\n",
    "\n",
    "hit_inds = np.random.randint(0, 100, (num_hits, n_materials))\n",
    "for hit in range(num_hits):\n",
    "    for i in range(n_materials):\n",
    "        infeed[:, i] += scipy.stats.norm.pdf(x, hit_inds[hit, i], 10)*10000\n",
    "        \n",
    "\n",
    "infeed_norm = np.sum(infeed, axis=1, keepdims=True)\n",
    "\n",
    "infeed = infeed/infeed_norm\n",
    "\n",
    "plt.plot(infeed[:, 0])\n",
    "plt.plot(infeed[:, 1])\n",
    "plt.plot(infeed[:, 2])\n",
    "plt.plot(infeed[:, 3])\n",
    "\n",
    "# generate infeed, plot it in this cell"
   ]
  },
  {
   "cell_type": "code",
   "execution_count": 8,
   "id": "115161af",
   "metadata": {},
   "outputs": [],
   "source": [
    "'''\n",
    "loop through infeed array, at each time step do the following:\n",
    "\n",
    "Create A, B matrices from log\n",
    "\n",
    "u_traj = solve_for_next_step(x_current, u_traj_last, A, B, Q, R)\n",
    "\n",
    "roll out dynamics one step using u_traj\n",
    "\n",
    "'''\n",
    "np.random.seed(1)\n",
    "\n",
    "A, B, x, u, Q, R = problem_constructor_LP(4, param = 3)\n",
    "\n",
    "acc_cost_opt = np.zeros((horizon+1))\n",
    "acc_cost_base = np.zeros((horizon+1))\n",
    "x_mask = 1000000000*np.ones_like(x)\n",
    "x_mask[0] = 1\n",
    "x_mask[5] = 1\n",
    "x_mask[10] = 1\n",
    "U = np.zeros((horizon))\n",
    "U_base = np.zeros((horizon))\n",
    "\n",
    "x_base = np.copy(x)\n",
    "u_base = 4*np.ones((1, 1))\n",
    "\n",
    "u_traj = 4*np.ones((5, 1))\n",
    "step = 0\n",
    "solve_times = np.zeros((infeed.shape[0]))\n",
    "\n",
    "for i in infeed:\n",
    "    B[:4, 0] = i\n",
    "    solve_start = time.time()\n",
    "    u_traj_next = solve_next_step(x, u_traj, A, B, Q, R)\n",
    "    solve_times[step] = time.time() - solve_start\n",
    "    x = dynamics(A, B, x, u_traj_next[0])\n",
    "    x_base = dynamics(A, B, x_base, u_base[0])\n",
    "    u_traj = u_traj_next\n",
    "    U[step] = u_traj[0]\n",
    "    U_base[step] = u_base[0]\n",
    "    if step > 4:\n",
    "        acc_cost_opt[step+1] = acc_cost_opt[step] + Q @ np.minimum(x, x_mask) + R @ u_traj[0]\n",
    "        acc_cost_base[step+1] = acc_cost_base[step] + Q @ np.minimum(x_base, x_mask) + R @ u_base[0]\n",
    "    step += 1\n",
    "    \n",
    "    \n",
    "    "
   ]
  },
  {
   "cell_type": "code",
   "execution_count": 279,
   "id": "160c73e2",
   "metadata": {},
   "outputs": [],
   "source": [
    "fig, axes = plt.subplots(3)\n",
    "\n",
    "axes[0].plot(infeed[5:, 0], label = 'Material A')\n",
    "axes[0].plot(infeed[5:, 1], label = 'Material B')\n",
    "axes[0].plot(infeed[5:, 2], label = 'Material C')\n",
    "axes[0].plot(infeed[5:, 3], label = 'Material D')\n",
    "\n",
    "# _, cost_fig = plt.figure()\n",
    "axes[1].plot(acc_cost_opt[5:], label = 'Total Accumulated Reward - Optimized')\n",
    "axes[1].plot(acc_cost_base[5:], label = 'Total Accumulated Reward - Current (no control)')\n",
    "# _, speed_fig = plt.figure()\n",
    "axes[2].plot(U[5:], label = 'Belt Speed')\n",
    "axes[2].plot(U_base[5:], label = 'Belt Speed - base')\n",
    "\n",
    "\n",
    "axes[0].legend()\n",
    "# axes[0].show()\n",
    "\n",
    "axes[1].legend()\n",
    "# cost_fig.show()\n",
    "\n",
    "axes[2].legend()\n",
    "# speed_fig.show()\n",
    "plt.show()"
   ]
  },
  {
   "cell_type": "code",
   "execution_count": 11,
   "id": "f51003a4",
   "metadata": {},
   "outputs": [
    {
     "data": {
      "text/plain": [
       "Text(46.972222222222214, 0.5, 'Percent of solves')"
      ]
     },
     "execution_count": 11,
     "metadata": {},
     "output_type": "execute_result"
    }
   ],
   "source": [
    "plt.hist(solve_times, bins='auto')\n",
    "plt.xlabel('Time to convergence (seconds)')\n",
    "plt.ylabel('Percent of solves')\n"
   ]
  },
  {
   "cell_type": "code",
   "execution_count": 214,
   "id": "5d606b55",
   "metadata": {},
   "outputs": [
    {
     "data": {
      "text/plain": [
       "array([0., 0., 0., 0., 0., 0., 0., 0., 0., 0., 0., 0., 0., 0., 0., 0., 0.,\n",
       "       0., 0.])"
      ]
     },
     "execution_count": 214,
     "metadata": {},
     "output_type": "execute_result"
    }
   ],
   "source": [
    "x_base"
   ]
  },
  {
   "cell_type": "code",
   "execution_count": 215,
   "id": "6c94fc03",
   "metadata": {},
   "outputs": [
    {
     "data": {
      "text/plain": [
       "array([4.])"
      ]
     },
     "execution_count": 215,
     "metadata": {},
     "output_type": "execute_result"
    }
   ],
   "source": [
    "u_traj[0]"
   ]
  },
  {
   "cell_type": "code",
   "execution_count": null,
   "id": "2f499f1f",
   "metadata": {},
   "outputs": [],
   "source": []
  }
 ],
 "metadata": {
  "kernelspec": {
   "display_name": "Python 3 (ipykernel)",
   "language": "python",
   "name": "python3"
  },
  "language_info": {
   "codemirror_mode": {
    "name": "ipython",
    "version": 3
   },
   "file_extension": ".py",
   "mimetype": "text/x-python",
   "name": "python",
   "nbconvert_exporter": "python",
   "pygments_lexer": "ipython3",
   "version": "3.8.15"
  },
  "vscode": {
   "interpreter": {
    "hash": "b7be0699ec21e4bf37dfb181e05c1b2a32bbd732f5d3cd37ba84456483b49c02"
   }
  }
 },
 "nbformat": 4,
 "nbformat_minor": 5
}
