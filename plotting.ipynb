{
 "cells": [
  {
   "cell_type": "code",
   "execution_count": 1,
   "id": "16871c56-a5a7-451c-9141-3bf7f1e674c1",
   "metadata": {},
   "outputs": [],
   "source": [
    "import numpy as np\n",
    "import matplotlib.pyplot as plt\n",
    "import pandas as pd\n"
   ]
  },
  {
   "cell_type": "code",
   "execution_count": 5,
   "id": "0b153385-7dc5-4310-816d-936332f7ac7a",
   "metadata": {},
   "outputs": [],
   "source": [
    "exp_dir = 'experiments/first_exp/'\n",
    "\n",
    "const_df = pd.read_csv(exp_dir + 'const_run_499.csv', index_col = 0)"
   ]
  },
  {
   "cell_type": "code",
   "execution_count": 3,
   "id": "48cdd981-2085-42f9-8c19-4dade3dca7cc",
   "metadata": {},
   "outputs": [
    {
     "data": {
      "text/html": [
       "<div>\n",
       "<style scoped>\n",
       "    .dataframe tbody tr th:only-of-type {\n",
       "        vertical-align: middle;\n",
       "    }\n",
       "\n",
       "    .dataframe tbody tr th {\n",
       "        vertical-align: top;\n",
       "    }\n",
       "\n",
       "    .dataframe thead th {\n",
       "        text-align: right;\n",
       "    }\n",
       "</style>\n",
       "<table border=\"1\" class=\"dataframe\">\n",
       "  <thead>\n",
       "    <tr style=\"text-align: right;\">\n",
       "      <th></th>\n",
       "      <th>Unnamed: 0</th>\n",
       "      <th>total_score_hist</th>\n",
       "      <th>u_hist</th>\n",
       "      <th>speed_hist</th>\n",
       "    </tr>\n",
       "  </thead>\n",
       "  <tbody>\n",
       "    <tr>\n",
       "      <th>0</th>\n",
       "      <td>0</td>\n",
       "      <td>0.000000</td>\n",
       "      <td>1.171867</td>\n",
       "      <td>1.000000</td>\n",
       "    </tr>\n",
       "    <tr>\n",
       "      <th>1</th>\n",
       "      <td>1</td>\n",
       "      <td>0.000000</td>\n",
       "      <td>1.171867</td>\n",
       "      <td>1.034373</td>\n",
       "    </tr>\n",
       "    <tr>\n",
       "      <th>2</th>\n",
       "      <td>2</td>\n",
       "      <td>0.000000</td>\n",
       "      <td>1.171867</td>\n",
       "      <td>1.061872</td>\n",
       "    </tr>\n",
       "    <tr>\n",
       "      <th>3</th>\n",
       "      <td>3</td>\n",
       "      <td>0.000000</td>\n",
       "      <td>1.171867</td>\n",
       "      <td>1.083871</td>\n",
       "    </tr>\n",
       "    <tr>\n",
       "      <th>4</th>\n",
       "      <td>4</td>\n",
       "      <td>0.000000</td>\n",
       "      <td>1.171867</td>\n",
       "      <td>1.101470</td>\n",
       "    </tr>\n",
       "    <tr>\n",
       "      <th>...</th>\n",
       "      <td>...</td>\n",
       "      <td>...</td>\n",
       "      <td>...</td>\n",
       "      <td>...</td>\n",
       "    </tr>\n",
       "    <tr>\n",
       "      <th>495</th>\n",
       "      <td>495</td>\n",
       "      <td>14.066780</td>\n",
       "      <td>1.171867</td>\n",
       "      <td>1.171867</td>\n",
       "    </tr>\n",
       "    <tr>\n",
       "      <th>496</th>\n",
       "      <td>496</td>\n",
       "      <td>14.110493</td>\n",
       "      <td>1.171867</td>\n",
       "      <td>1.171867</td>\n",
       "    </tr>\n",
       "    <tr>\n",
       "      <th>497</th>\n",
       "      <td>497</td>\n",
       "      <td>14.153579</td>\n",
       "      <td>1.171867</td>\n",
       "      <td>1.171867</td>\n",
       "    </tr>\n",
       "    <tr>\n",
       "      <th>498</th>\n",
       "      <td>498</td>\n",
       "      <td>14.195978</td>\n",
       "      <td>1.171867</td>\n",
       "      <td>1.171867</td>\n",
       "    </tr>\n",
       "    <tr>\n",
       "      <th>499</th>\n",
       "      <td>499</td>\n",
       "      <td>14.237629</td>\n",
       "      <td>1.171867</td>\n",
       "      <td>1.171867</td>\n",
       "    </tr>\n",
       "  </tbody>\n",
       "</table>\n",
       "<p>500 rows × 4 columns</p>\n",
       "</div>"
      ],
      "text/plain": [
       "     Unnamed: 0  total_score_hist    u_hist  speed_hist\n",
       "0             0          0.000000  1.171867    1.000000\n",
       "1             1          0.000000  1.171867    1.034373\n",
       "2             2          0.000000  1.171867    1.061872\n",
       "3             3          0.000000  1.171867    1.083871\n",
       "4             4          0.000000  1.171867    1.101470\n",
       "..          ...               ...       ...         ...\n",
       "495         495         14.066780  1.171867    1.171867\n",
       "496         496         14.110493  1.171867    1.171867\n",
       "497         497         14.153579  1.171867    1.171867\n",
       "498         498         14.195978  1.171867    1.171867\n",
       "499         499         14.237629  1.171867    1.171867\n",
       "\n",
       "[500 rows x 4 columns]"
      ]
     },
     "execution_count": 3,
     "metadata": {},
     "output_type": "execute_result"
    }
   ],
   "source": [
    "const_df"
   ]
  },
  {
   "cell_type": "code",
   "execution_count": 6,
   "id": "b3eb2994-1937-402a-9c8c-9f594977b2bd",
   "metadata": {},
   "outputs": [
    {
     "data": {
      "text/plain": [
       "<Axes: >"
      ]
     },
     "execution_count": 6,
     "metadata": {},
     "output_type": "execute_result"
    },
    {
     "data": {
      "image/png": "[encoded data removed]",
      "text/plain": [
       "<Figure size 640x480 with 1 Axes>"
      ]
     },
     "metadata": {},
     "output_type": "display_data"
    }
   ],
   "source": [
    "const_df.plot()"
   ]
  },
  {
   "cell_type": "code",
   "execution_count": null,
   "id": "290c22f6-a1c1-4f7d-b39c-d0e0aa33e47e",
   "metadata": {},
   "outputs": [],
   "source": []
  }
 ],
 "metadata": {
  "kernelspec": {
   "display_name": "Python 3 (ipykernel)",
   "language": "python",
   "name": "python3"
  },
  "language_info": {
   "codemirror_mode": {
    "name": "ipython",
    "version": 3
   },
   "file_extension": ".py",
   "mimetype": "text/x-python",
   "name": "python",
   "nbconvert_exporter": "python",
   "pygments_lexer": "ipython3",
   "version": "3.8.15"
  }
 },
 "nbformat": 4,
 "nbformat_minor": 5
}
